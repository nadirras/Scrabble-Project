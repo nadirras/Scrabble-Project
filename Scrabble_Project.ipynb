{
  "nbformat": 4,
  "nbformat_minor": 0,
  "metadata": {
    "colab": {
      "provenance": [],
      "authorship_tag": "ABX9TyM/ZAAn8VdizrHLi3P9KLFv",
      "include_colab_link": true
    },
    "kernelspec": {
      "name": "python3",
      "display_name": "Python 3"
    },
    "language_info": {
      "name": "python"
    }
  },
  "cells": [
    {
      "cell_type": "markdown",
      "metadata": {
        "id": "view-in-github",
        "colab_type": "text"
      },
      "source": [
        "<a href=\"https://colab.research.google.com/github/nadirras/Scrabble-Project/blob/main/Scrabble_Project.ipynb\" target=\"_parent\"><img src=\"https://colab.research.google.com/assets/colab-badge.svg\" alt=\"Open In Colab\"/></a>"
      ]
    },
    {
      "cell_type": "markdown",
      "source": [
        "**Build your Point Dictionary**"
      ],
      "metadata": {
        "id": "uU3OgZ9tFVKq"
      }
    },
    {
      "cell_type": "code",
      "execution_count": null,
      "metadata": {
        "id": "VqPEql-O5I3Y"
      },
      "outputs": [],
      "source": [
        "letters = [\"A\", \"B\", \"C\", \"D\", \"E\", \"F\", \"G\", \"H\", \"I\", \"J\", \"K\", \"L\", \"M\", \"N\",\n",
        "           \"O\", \"P\", \"Q\", \"R\", \"S\", \"T\", \"U\", \"V\", \"W\", \"X\", \"Y\", \"Z\"]\n",
        "points = [1, 3, 3, 2, 1, 4, 2, 4, 1, 8, 5, 1, 3, 4, 1, 3, 10, 1, 1, 1, 1, 4, 4, \n",
        "          8, 4, 10]"
      ]
    },
    {
      "cell_type": "code",
      "source": [
        "letter_to_points = {keys:values for keys, values in zip(letters,points)}\n",
        "letter_to_points"
      ],
      "metadata": {
        "colab": {
          "base_uri": "https://localhost:8080/"
        },
        "id": "q5ueAWsA5R3z",
        "outputId": "03a6ce9d-ddcd-4be8-fa26-4dd3071a8836"
      },
      "execution_count": null,
      "outputs": [
        {
          "output_type": "execute_result",
          "data": {
            "text/plain": [
              "{'A': 1,\n",
              " 'B': 3,\n",
              " 'C': 3,\n",
              " 'D': 2,\n",
              " 'E': 1,\n",
              " 'F': 4,\n",
              " 'G': 2,\n",
              " 'H': 4,\n",
              " 'I': 1,\n",
              " 'J': 8,\n",
              " 'K': 5,\n",
              " 'L': 1,\n",
              " 'M': 3,\n",
              " 'N': 4,\n",
              " 'O': 1,\n",
              " 'P': 3,\n",
              " 'Q': 10,\n",
              " 'R': 1,\n",
              " 'S': 1,\n",
              " 'T': 1,\n",
              " 'U': 1,\n",
              " 'V': 4,\n",
              " 'W': 4,\n",
              " 'X': 8,\n",
              " 'Y': 4,\n",
              " 'Z': 10}"
            ]
          },
          "metadata": {},
          "execution_count": 2
        }
      ]
    },
    {
      "cell_type": "code",
      "source": [
        "letter_to_points[' '] = 0"
      ],
      "metadata": {
        "id": "2zpspdhLAdid"
      },
      "execution_count": null,
      "outputs": []
    },
    {
      "cell_type": "markdown",
      "source": [
        "**Score a Word**"
      ],
      "metadata": {
        "id": "yxn5nXWjFb4M"
      }
    },
    {
      "cell_type": "code",
      "source": [
        "def score_word(word):\n",
        "  point_total = 0\n",
        "  for value in word:\n",
        "    point_total += letter_to_points[value]\n",
        "    letter_to_points.get(point_total,0)\n",
        "  return point_total"
      ],
      "metadata": {
        "id": "vxgEAt_WAtDc"
      },
      "execution_count": null,
      "outputs": []
    },
    {
      "cell_type": "code",
      "source": [
        "brownie_points = score_word(\"BROWNIE\")\n",
        "brownie_points"
      ],
      "metadata": {
        "colab": {
          "base_uri": "https://localhost:8080/"
        },
        "id": "eH5o-AsJChWU",
        "outputId": "0c73f3b4-3b1a-4660-9983-59d79427f7d4"
      },
      "execution_count": null,
      "outputs": [
        {
          "output_type": "execute_result",
          "data": {
            "text/plain": [
              "15"
            ]
          },
          "metadata": {},
          "execution_count": 5
        }
      ]
    },
    {
      "cell_type": "markdown",
      "source": [
        "**Score a Game**"
      ],
      "metadata": {
        "id": "KqrM8vEWFfCE"
      }
    },
    {
      "cell_type": "code",
      "source": [
        "player_to_words =  {\"player1\" : [\"BLUE\", \"TENNIS\", \"EXIT\"], \"wordNerd\" : [\"EARTH\", \"EYES\", \"MACHINE\"],\n",
        "                    \"lexiCon\" : [\"ERASER\", \"BELLY\", \"HUSKY\"], \"profReader\" : [\"ZAP\", \"COMA\", \"PERIOD\"]}"
      ],
      "metadata": {
        "id": "-w_Lo4-JFM69"
      },
      "execution_count": null,
      "outputs": []
    },
    {
      "cell_type": "code",
      "source": [
        "player_to_points = {}"
      ],
      "metadata": {
        "id": "8nAT0nq2Gib4"
      },
      "execution_count": null,
      "outputs": []
    },
    {
      "cell_type": "code",
      "source": [
        "for player, words in player_to_words.items():\n",
        "  player_points = 0\n",
        "  for word in words:\n",
        "    player_points += score_word(word)\n",
        "  player_to_points[player] = player_points\n"
      ],
      "metadata": {
        "id": "lsOcFHEFGpwl"
      },
      "execution_count": null,
      "outputs": []
    },
    {
      "cell_type": "code",
      "source": [
        "player_to_points"
      ],
      "metadata": {
        "colab": {
          "base_uri": "https://localhost:8080/"
        },
        "id": "Ja0LR8W-IBeT",
        "outputId": "dc087386-b2a6-40dd-b3ef-55bb4e900585"
      },
      "execution_count": null,
      "outputs": [
        {
          "output_type": "execute_result",
          "data": {
            "text/plain": [
              "{'player1': 29, 'wordNerd': 32, 'lexiCon': 31, 'profReader': 31}"
            ]
          },
          "metadata": {},
          "execution_count": 9
        }
      ]
    },
    {
      "cell_type": "code",
      "source": [],
      "metadata": {
        "id": "-xhHl-JgOiI7"
      },
      "execution_count": null,
      "outputs": []
    }
  ]
}